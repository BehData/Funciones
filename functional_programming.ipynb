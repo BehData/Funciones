{
  "metadata": {
    "language_info": {
      "codemirror_mode": {
        "name": "python",
        "version": 3
      },
      "file_extension": ".py",
      "mimetype": "text/x-python",
      "name": "python",
      "nbconvert_exporter": "python",
      "pygments_lexer": "ipython3",
      "version": "3.8"
    },
    "kernelspec": {
      "name": "python",
      "display_name": "Python (Pyodide)",
      "language": "python"
    }
  },
  "nbformat_minor": 4,
  "nbformat": 4,
  "cells": [
    {
      "cell_type": "code",
      "source": "Pure function",
      "metadata": {},
      "execution_count": null,
      "outputs": []
    },
    {
      "cell_type": "code",
      "source": "def suma(num1, num2):\n    return num1 + num2",
      "metadata": {
        "trusted": true
      },
      "execution_count": 35,
      "outputs": []
    },
    {
      "cell_type": "code",
      "source": "print(suma(2,3))\nprint(suma(2,3))\nprint(suma(2,3))",
      "metadata": {
        "trusted": true
      },
      "execution_count": 36,
      "outputs": [
        {
          "name": "stdout",
          "text": "5\n5\n5\n",
          "output_type": "stream"
        }
      ]
    },
    {
      "cell_type": "code",
      "source": "total = 0\n\ndef suma(num1, num2):\n    global total #agregar concepto de variable global\n    \n    total = total + num1 + num2\n    \n    return total",
      "metadata": {
        "trusted": true
      },
      "execution_count": 37,
      "outputs": []
    },
    {
      "cell_type": "code",
      "source": "print(suma(2,3))\nprint(suma(2,3))\nprint(suma(2,3))",
      "metadata": {
        "trusted": true
      },
      "execution_count": 38,
      "outputs": [
        {
          "name": "stdout",
          "text": "5\n10\n15\n",
          "output_type": "stream"
        }
      ]
    },
    {
      "cell_type": "raw",
      "source": "Function composition",
      "metadata": {}
    },
    {
      "cell_type": "code",
      "source": "def alCuadrado(num):\n    return num*num",
      "metadata": {
        "trusted": true
      },
      "execution_count": 39,
      "outputs": []
    },
    {
      "cell_type": "code",
      "source": "def sumaDeCuadrados(num1, num2):\n    return alCuadrado(num1) + alCuadrado(num2)",
      "metadata": {
        "trusted": true
      },
      "execution_count": 40,
      "outputs": []
    },
    {
      "cell_type": "code",
      "source": "def cuadradoAntecesorMasSucesor(num):\n    return sumaDeCuadrados(num-1, num+1)",
      "metadata": {
        "trusted": true
      },
      "execution_count": 41,
      "outputs": []
    },
    {
      "cell_type": "code",
      "source": "print(cuadradoAntecesorMasSucesor(5)) #16+36\nprint(cuadradoAntecesorMasSucesor(5)) #16+36\nprint(cuadradoAntecesorMasSucesor(5)) #16+36",
      "metadata": {
        "trusted": true
      },
      "execution_count": 44,
      "outputs": [
        {
          "name": "stdout",
          "text": "52\n52\n52\n",
          "output_type": "stream"
        }
      ]
    },
    {
      "cell_type": "raw",
      "source": "Recursive functions",
      "metadata": {}
    },
    {
      "cell_type": "code",
      "source": "def duplicarLista(lista):\n    nueva_lista = []\n    \n    for numero in lista:\n        nueva_lista.append(numero*2)\n    \n    return nueva_lista",
      "metadata": {
        "trusted": true
      },
      "execution_count": 45,
      "outputs": []
    },
    {
      "cell_type": "code",
      "source": "mi_lista = [1, 2, 3, 4]\nprint(duplicarLista(mi_lista))",
      "metadata": {
        "trusted": true
      },
      "execution_count": 46,
      "outputs": [
        {
          "name": "stdout",
          "text": "[2, 6, 10, 14]\n",
          "output_type": "stream"
        }
      ]
    },
    {
      "cell_type": "code",
      "source": "def duplicarLista(lista):\n    if (len(lista) == 1):\n        return [lista[0]*2]\n    else:\n        return [lista[0]*2] + duplicarLista(lista[1:])",
      "metadata": {
        "trusted": true
      },
      "execution_count": 47,
      "outputs": []
    },
    {
      "cell_type": "code",
      "source": "mi_lista = [1, 2, 3, 4]\nprint(duplicarLista(mi_lista))",
      "metadata": {
        "trusted": true
      },
      "execution_count": 48,
      "outputs": [
        {
          "name": "stdout",
          "text": "[2, 4, 6, 8]\n",
          "output_type": "stream"
        }
      ]
    },
    {
      "cell_type": "raw",
      "source": "High order functions",
      "metadata": {}
    },
    {
      "cell_type": "code",
      "source": "def mapearLista(lista, accion):\n    if (len(lista) == 1):\n        return [accion(lista[0])]\n    else:\n        return [accion(lista[0])] + mapearLista(lista[1:], accion)",
      "metadata": {
        "trusted": true
      },
      "execution_count": 49,
      "outputs": []
    },
    {
      "cell_type": "code",
      "source": "def duplicar(num):\n    return num*2",
      "metadata": {
        "trusted": true
      },
      "execution_count": 50,
      "outputs": []
    },
    {
      "cell_type": "code",
      "source": "def dividir(num):\n    return num/2",
      "metadata": {
        "trusted": true
      },
      "execution_count": 51,
      "outputs": []
    },
    {
      "cell_type": "code",
      "source": "mi_lista = [2, 4, 6, 8]\nprint(mapearLista(mi_lista, duplicar))\nprint(mapearLista(mi_lista, dividir))",
      "metadata": {
        "trusted": true
      },
      "execution_count": 53,
      "outputs": [
        {
          "name": "stdout",
          "text": "[4, 8, 12, 16]\n[1.0, 2.0, 3.0, 4.0]\n",
          "output_type": "stream"
        }
      ]
    },
    {
      "cell_type": "code",
      "source": "",
      "metadata": {},
      "execution_count": null,
      "outputs": []
    }
  ]
}